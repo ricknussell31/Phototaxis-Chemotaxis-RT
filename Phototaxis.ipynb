{
 "cells": [
  {
   "cell_type": "code",
   "execution_count": 1,
   "metadata": {},
   "outputs": [],
   "source": [
    "from scipy import *\n",
    "import numpy as np\n",
    "import matplotlib.pyplot as plt\n",
    "import PlanktonSignaling.basics as PS\n",
    "import PlanktonSignaling.Deposition as DP"
   ]
  },
  {
   "cell_type": "code",
   "execution_count": 5,
   "metadata": {},
   "outputs": [],
   "source": [
    "meshsize = 100 #Chemical Mesh size\n",
    "numb = 30**2 #Number of plankton in simulation\n",
    "LL = 10 #Length of domain [0,L] x [0,L]\n",
    "dt = 0.02 #Time-stepping size\n",
    "TotalTime = 30 #Total time \n",
    "\n",
    "simTime = int(TotalTime/dt) #Number of timesteps in order to achieve total Time \n",
    "\n",
    "#Simulation for Constant Function\n",
    "\n",
    "Swimmers = PS.Plankton(DP.constantDep,d1=.1,d2=4,N = meshsize,depMaxStr=.01,\n",
    "                        Const=3,L=LL,k=dt,epsilon=1e-3,depThreshold=0.012, \n",
    "                    depTransWidth=0.008, num = numb, c0=0.01)\n",
    "def initial_conditions(x,y):\n",
    "    return(Swimmers.c0 + x*0)\n",
    "\n",
    "Swimmers.SetIC(initial_conditions)\n",
    "\n",
    "lenn = int(np.sqrt(numb))\n",
    "pos = np.zeros((numb,2))\n",
    "vel = np.zeros((numb,2))\n",
    "CHEM = np.zeros((simTime,meshsize,meshsize)) #preallocate the chemical \n",
    "POS = np.zeros((simTime,numb,2)) #preallocate the chemical \n",
    "\n",
    "#Place plankton down uniformly throughout the domain and give each a direction to travel initially\n",
    "#Randomness can be added if desired.\n",
    "i = 0\n",
    "for l in range(0,lenn):\n",
    "    for k in range(0,lenn):\n",
    "        pos[i,:] = np.array([np.mod(k*(Swimmers.L*1/(lenn)) + 0.5*(Swimmers.L*1/(lenn)),Swimmers.L),\n",
    "                                     np.mod(l*(Swimmers.L*1/(lenn)) + 0.5*(Swimmers.L*1/(lenn)),Swimmers.L)])\n",
    "        th  = np.random.rand()*2*pi\n",
    "        vel[i,:] = np.array([np.cos(th),np.sin(th)])\n",
    "        i = i + 1\n",
    "        \n",
    "CHEM[0,:,:] = Swimmers.Meshed() \n",
    "POS[0,:,:] = pos "
   ]
  },
  {
   "cell_type": "code",
   "execution_count": null,
   "metadata": {},
   "outputs": [],
   "source": [
    "for k in range(1,simTime+1):\n",
    "        Swimmers.UpdateSlice(Swimmers.scalar,pos,vel)\n",
    "        CHEM[k,:,:] = Swimmers.Meshed()\n",
    "        POS[k,:,:] = pos"
   ]
  },
  {
   "cell_type": "code",
   "execution_count": null,
   "metadata": {},
   "outputs": [],
   "source": [
    "%matplotlib notebook\n",
    "\n",
    "\n",
    "fig   = plt.figure()\n",
    "ax    = plt.subplot(1,1,1)\n",
    "field = ax.pcolormesh(Swimmers.xm,Swimmers.ym,CHEM[0])\n",
    "field.set_clim(0.008,0.012)\n",
    "dots, = ax.plot([], [], 'r.',MarkerSize=.55)\n",
    "fig.colorbar(field)\n",
    "\n",
    "plt.suptitle(r'$d_1 = {0},d_2={1}$'.format(Swimmers.d1, Swimmers.d2), fontsize = 10)\n",
    "\n",
    "def initit():\n",
    "    dots.set_data([], [])\n",
    "    return field,dots\n",
    "\n",
    "def animate(k):\n",
    "    arr = CHEM[k]\n",
    "    arr = arr[:-1, :-1]\n",
    "    field.set_array(arr.ravel())\n",
    "    plt.title(r'Time = ${0}$'.format(k*Swimmers.k), fontsize = 20)\n",
    "    dots.set_data(POS[k][:,0],POS[k][:,1])\n",
    "\n",
    "    return dots,field\n",
    "    \n",
    "anim = matplotlib.animation.FuncAnimation(fig,animate,frames=range(0,simTime,1),\n",
    "                                          interval=400,blit=False,repeat=False)\n",
    "plt.show()"
   ]
  }
 ],
 "metadata": {
  "kernelspec": {
   "display_name": "Python 3",
   "language": "python",
   "name": "python3"
  },
  "language_info": {
   "codemirror_mode": {
    "name": "ipython",
    "version": 3
   },
   "file_extension": ".py",
   "mimetype": "text/x-python",
   "name": "python",
   "nbconvert_exporter": "python",
   "pygments_lexer": "ipython3",
   "version": "3.7.4"
  }
 },
 "nbformat": 4,
 "nbformat_minor": 2
}
